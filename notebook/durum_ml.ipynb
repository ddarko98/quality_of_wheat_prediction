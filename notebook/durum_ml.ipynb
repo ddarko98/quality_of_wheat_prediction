{
 "cells": [
  {
   "cell_type": "markdown",
   "id": "b31b451e",
   "metadata": {},
   "source": [
    "# Goal: Create machine learning model that will predict quality of the wheat "
   ]
  },
  {
   "cell_type": "markdown",
   "id": "eb583395",
   "metadata": {},
   "source": [
    "# Roadmap:\n"
   ]
  },
  {
   "cell_type": "markdown",
   "id": "d570edfb",
   "metadata": {},
   "source": [
    "![Mapa](../images/map.jpeg)"
   ]
  },
  {
   "cell_type": "markdown",
   "id": "61665179",
   "metadata": {},
   "source": [
    "## Loading libraries:"
   ]
  },
  {
   "cell_type": "code",
   "execution_count": null,
   "id": "ea3de3ca",
   "metadata": {},
   "outputs": [],
   "source": [
    "import pandas as pd\n",
    "import seaborn as sns\n",
    "import matplotlib.pyplot as plt\n",
    "import numpy as np\n",
    "from sklearn.preprocessing import StandardScaler\n",
    "from sklearn.pipeline import Pipeline\n",
    "from sklearn.compose import ColumnTransformer\n",
    "from sklearn.model_selection import train_test_split\n",
    "from sklearn.linear_model import LogisticRegression\n",
    "from sklearn.naive_bayes import GaussianNB\n",
    "from sklearn.tree import DecisionTreeClassifier\n",
    "from sklearn.ensemble import RandomForestClassifier\n",
    "from sklearn.svm import LinearSVC\n",
    "from sklearn.metrics import classification_report, accuracy_score\n",
    "import joblib\n",
    "from sklearn.preprocessing import LabelEncoder"
   ]
  },
  {
   "cell_type": "markdown",
   "id": "e8062526",
   "metadata": {},
   "source": [
    "## 1. Raw data gathering"
   ]
  },
  {
   "cell_type": "code",
   "execution_count": 2,
   "id": "9814ea19",
   "metadata": {},
   "outputs": [
    {
     "name": "stdout",
     "output_type": "stream",
     "text": [
      "     Target  AREA   MAJORAXIS  MINORAXIS  ECCENTRICITY     EQDIASQ  \\\n",
      "0  Vitreous   168  109.576157  39.396721      0.973060  213.904236   \n",
      "1  Vitreous   162  105.584457  43.366894      0.964173  206.264801   \n",
      "2  Vitreous   145   97.360207  35.532028      0.903072  184.619720   \n",
      "3  Vitreous   178  104.080582  49.040062      1.272657  226.636627   \n",
      "4  Vitreous   187  103.716667  40.885876     -1.469139  238.095779   \n",
      "\n",
      "    PERIMETER  SOLIDITY  ROUNDNESS  SHAPEFACTOR  ...  Gabor_Y9(XYZ)  \\\n",
      "0  202.794052  0.087454   0.017815     0.051334  ...       1.187631   \n",
      "1  194.794052  0.081901   0.018502     0.053650  ...       2.437782   \n",
      "2  177.722961  0.096026   0.019477     0.057689  ...       0.527286   \n",
      "3  202.509750  0.080507   0.020921     0.054543  ...       2.277434   \n",
      "4  198.811234  0.097650   0.022134     0.059452  ...       2.337524   \n",
      "\n",
      "   Gabor_Z1(XYZ)  Gabor_Z2(XYZ)  Gabor_Z3(XYZ)  Gabor_Z4(XYZ)  Gabor_Z5(XYZ)  \\\n",
      "0       0.003489       0.013901       0.031153       0.003591       0.014329   \n",
      "1       0.003794       0.015126       0.033886       0.004166       0.016921   \n",
      "2       0.003069       0.012269       0.027538       0.003092       0.012459   \n",
      "3       0.003743       0.014940       0.033508       0.003966       0.015513   \n",
      "4       0.003599       0.014423       0.032525       0.003922       0.015026   \n",
      "\n",
      "   Gabor_Z6(XYZ)  Gabor_Z7(XYZ)  Gabor_Z8(XYZ)  Gabor_Z9(XYZ)  \n",
      "0       0.032405       0.235286       0.651593       0.775182  \n",
      "1       0.038586       0.368535       1.074773       1.577847  \n",
      "2       0.028380       0.111476       0.191517       0.350966  \n",
      "3       0.034776       0.180135       0.887808       1.446794  \n",
      "4       0.034003       0.199192       0.928664       1.786701  \n",
      "\n",
      "[5 rows x 237 columns]\n"
     ]
    }
   ],
   "source": [
    "#dataset from: https://www.kaggle.com/datasets/muratkokludataset/durum-wheat-dataset/data\n",
    "path = \"/home/darko/Desktop/durum_wheat/durum_wheat_ml/Durum_Wheat_Dataset/Dataset3-Durum Wheat Features/Durum Wheat Features.xlsx\"\n",
    "\n",
    "try:\n",
    "    df = pd.read_excel(path, sheet_name=0)\n",
    "    print(df.head())\n",
    "except Exception as e:\n",
    "    print(f\"An unexpected error occurred: {e}\")"
   ]
  },
  {
   "cell_type": "markdown",
   "id": "7793664c",
   "metadata": {},
   "source": [
    "## 2. EDA"
   ]
  },
  {
   "cell_type": "code",
   "execution_count": 3,
   "id": "b5bd8dcf",
   "metadata": {},
   "outputs": [
    {
     "name": "stdout",
     "output_type": "stream",
     "text": [
      "Dataset shape (rows, columns): (9000, 237)\n",
      "****************************************\n",
      "\n",
      "Dataset info:\n",
      "<class 'pandas.core.frame.DataFrame'>\n",
      "RangeIndex: 9000 entries, 0 to 8999\n",
      "Columns: 237 entries, Target to Gabor_Z9(XYZ)\n",
      "dtypes: float64(235), int64(1), object(1)\n",
      "memory usage: 16.3+ MB\n",
      "****************************************\n",
      "****************************************\n",
      "Missing values per column:\n",
      "Target           0\n",
      "AREA             0\n",
      "MAJORAXIS        0\n",
      "MINORAXIS        0\n",
      "ECCENTRICITY     0\n",
      "                ..\n",
      "Gabor_Z5(XYZ)    0\n",
      "Gabor_Z6(XYZ)    0\n",
      "Gabor_Z7(XYZ)    0\n",
      "Gabor_Z8(XYZ)    0\n",
      "Gabor_Z9(XYZ)    0\n",
      "Length: 237, dtype: int64\n",
      "****************************************\n",
      "Number of duplicate rows: 0\n",
      "****************************************\n",
      "Random sample of 5 rows:\n",
      "         Target  AREA   MAJORAXIS  MINORAXIS  ECCENTRICITY     EQDIASQ  \\\n",
      "7940   Foreign   113   72.095627  31.201622      0.606692  143.876068   \n",
      "1162  Vitreous   154  101.589783  38.577065      0.906564  196.078888   \n",
      "582   Vitreous   201  108.948685  40.072151     -0.972156  255.921143   \n",
      "4081   Starchy   164   93.014153  43.781296      0.127331  208.811279   \n",
      "8412   Foreign   136   86.967949  28.108158     -1.063594  173.160568   \n",
      "\n",
      "       PERIMETER  SOLIDITY  ROUNDNESS  SHAPEFACTOR  ...  Gabor_Y9(XYZ)  \\\n",
      "7940  134.610229  0.113682   0.027680     0.078367  ...       1.923140   \n",
      "1162  187.137177  0.090909   0.018999     0.055260  ...       1.086189   \n",
      "582   206.936188  0.101721   0.021561     0.058984  ...       1.710551   \n",
      "4081  180.710724  0.092655   0.024135     0.063108  ...       0.852951   \n",
      "8412  163.338165  0.126394   0.022894     0.064058  ...       3.202615   \n",
      "\n",
      "      Gabor_Z1(XYZ)  Gabor_Z2(XYZ)  Gabor_Z3(XYZ)  Gabor_Z4(XYZ)  \\\n",
      "7940       0.010843       0.043354       0.097381       0.011022   \n",
      "1162       0.003581       0.014349       0.032340       0.003637   \n",
      "582        0.004272       0.017132       0.038665       0.004399   \n",
      "4081       0.004487       0.017879       0.040034       0.004561   \n",
      "8412       0.019331       0.077476       0.174817       0.019529   \n",
      "\n",
      "      Gabor_Z5(XYZ)  Gabor_Z6(XYZ)  Gabor_Z7(XYZ)  Gabor_Z8(XYZ)  \\\n",
      "7940       0.044028       0.099094       0.488496       1.024959   \n",
      "1162       0.014513       0.032752       0.228496       0.429636   \n",
      "582        0.017277       0.038844       0.207177       1.108145   \n",
      "4081       0.018653       0.043123       0.224375       0.412812   \n",
      "8412       0.077734       0.175071       0.692397       3.212104   \n",
      "\n",
      "      Gabor_Z9(XYZ)  \n",
      "7940       1.716980  \n",
      "1162       0.692616  \n",
      "582        1.099306  \n",
      "4081       0.481957  \n",
      "8412       3.325619  \n",
      "\n",
      "[5 rows x 237 columns]\n"
     ]
    }
   ],
   "source": [
    "print(\"Dataset shape (rows, columns):\", df.shape)\n",
    "print('*' * 40)\n",
    "\n",
    "print(\"\\nDataset info:\")\n",
    "df.info()\n",
    "print('*' * 40)\n",
    "\n",
    "\n",
    "df.describe()\n",
    "\n",
    "print('*' * 40)\n",
    "\n",
    "print(\"Missing values per column:\")\n",
    "print(df.isna().sum())\n",
    "\n",
    "print('*' * 40)\n",
    "print(\"Number of duplicate rows:\", df.duplicated().sum())\n",
    "\n",
    "print('*' * 40)\n",
    "sample = df.sample(random_state=42, n=5)\n",
    "print(\"Random sample of 5 rows:\\n\", sample)\n"
   ]
  },
  {
   "cell_type": "markdown",
   "id": "8876e5f8",
   "metadata": {},
   "source": [
    "## Columns explained:\n",
    "\n",
    "### **Target: main variable indicating wheat quality**\n",
    "### - 'Vitreous' : high-quality, hard durum wheat\n",
    "### - 'Starchy'  : softer wheat\n",
    "### - 'Foreign'  : non-durum or defective grains\n",
    "\n",
    "### Morphological features (shape and size):\n",
    "### - AREA        : surface area of the grain\n",
    "### - MAJORAXIS   : length of the major axis\n",
    "### - MINORAXIS   : length of the minor axis\n",
    "### - ECCENTRICITY: measure of how elongated the grain is (0 = circle, 1 = line)\n",
    "### - PERIMETER   : perimeter of the grain\n",
    "### - ROUNDNESS   : roundness measure\n",
    "### - SOLIDITY    : compactness of the grain shape\n",
    "### - SHAPEFACTOR : general shape descriptor\n",
    "### - EQDIASQ     : equivalent diameter squared (derived from AREA)\n",
    "\n",
    "### Textural features (from Gabor filters on images):\n",
    "### - Gabor_X1(XYZ) … Gabor_X9(XYZ) : horizontal/vertical orientation texture descriptors\n",
    "### - Gabor_Y1(XYZ) … Gabor_Y9(XYZ) : diagonal texture descriptors\n",
    "### - Gabor_Z1(XYZ) … Gabor_Z9(XYZ) : high-frequency/energy texture descriptors\n",
    "\n",
    "### Notes:\n",
    "### - All numerical features can be used for ML models\n",
    "### - Target is categorical; use LabelEncoder or one-hot encoding\n",
    "### - Gabor features help capture subtle differences in surface texture, important for distinguishing wheat quality\n"
   ]
  },
  {
   "cell_type": "markdown",
   "id": "1b4c057d",
   "metadata": {},
   "source": [
    "### Category count"
   ]
  },
  {
   "cell_type": "code",
   "execution_count": 4,
   "id": "66876eb1",
   "metadata": {},
   "outputs": [
    {
     "name": "stdout",
     "output_type": "stream",
     "text": [
      "Category distribution (counts):\n",
      "Target\n",
      "Vitreous    3000\n",
      "Starchy     3000\n",
      "Foreign     3000\n",
      "Name: count, dtype: int64\n"
     ]
    }
   ],
   "source": [
    "category_counts = df['Target'].value_counts()\n",
    "\n",
    "print(\"Category distribution (counts):\")\n",
    "print(category_counts)"
   ]
  },
  {
   "cell_type": "markdown",
   "id": "18da175a",
   "metadata": {},
   "source": [
    "### Category visualisation"
   ]
  },
  {
   "cell_type": "code",
   "execution_count": 5,
   "id": "56d2744b",
   "metadata": {},
   "outputs": [
    {
     "data": {
      "image/png": "[encoded data removed]",
      "text/plain": [
       "<Figure size 2200x500 with 1 Axes>"
      ]
     },
     "metadata": {},
     "output_type": "display_data"
    }
   ],
   "source": [
    "plt.figure(figsize=(22, 5))\n",
    "plt.bar(category_counts.index, category_counts.values, color=['skyblue', 'salmon'])\n",
    "plt.title(\"Category Distribution\")\n",
    "plt.xlabel(\"Category\")\n",
    "plt.ylabel(\"Wheat Count\")\n",
    "plt.show()"
   ]
  },
  {
   "cell_type": "markdown",
   "id": "7473f770",
   "metadata": {},
   "source": [
    "## 3. Data processing (cleaning)"
   ]
  },
  {
   "cell_type": "code",
   "execution_count": 6,
   "id": "31086701",
   "metadata": {},
   "outputs": [],
   "source": [
    "def standardize_data(df):\n",
    "    df.columns = df.columns.str.lower().str.replace(' ', '_').str.replace('(', '').str.replace(')', '')\n",
    "    return df\n",
    "\n",
    "def prepare_data(df):\n",
    "    return standardize_data(df)"
   ]
  },
  {
   "cell_type": "markdown",
   "id": "f8395adc",
   "metadata": {},
   "source": [
    "### Data after cleaning:"
   ]
  },
  {
   "cell_type": "code",
   "execution_count": 7,
   "id": "66fe6be5",
   "metadata": {},
   "outputs": [
    {
     "name": "stdout",
     "output_type": "stream",
     "text": [
      "target           object\n",
      "area              int64\n",
      "majoraxis       float64\n",
      "minoraxis       float64\n",
      "eccentricity    float64\n",
      "                 ...   \n",
      "gabor_z5xyz     float64\n",
      "gabor_z6xyz     float64\n",
      "gabor_z7xyz     float64\n",
      "gabor_z8xyz     float64\n",
      "gabor_z9xyz     float64\n",
      "Length: 237, dtype: object\n"
     ]
    }
   ],
   "source": [
    "df = prepare_data(df)\n",
    "\n",
    "print(df.dtypes)\n",
    "\n"
   ]
  },
  {
   "cell_type": "markdown",
   "id": "e64d3d9a",
   "metadata": {},
   "source": [
    "## 4. Feature engineering"
   ]
  },
  {
   "cell_type": "markdown",
   "id": "725368be",
   "metadata": {},
   "source": [
    "### Deciding which columns are relevant for our future model..."
   ]
  },
  {
   "cell_type": "code",
   "execution_count": 8,
   "id": "90b06193",
   "metadata": {},
   "outputs": [
    {
     "name": "stdout",
     "output_type": "stream",
     "text": [
      "target_encoded    1.000000\n",
      "gabor_a*3         0.774117\n",
      "gabor_a*2         0.773761\n",
      "gabor_a*1         0.773103\n",
      "mean_a*           0.772723\n",
      "                    ...   \n",
      "gabor_b6         -0.727447\n",
      "mean_b           -0.729039\n",
      "gabor_b1         -0.729089\n",
      "gabor_b2         -0.729253\n",
      "gabor_b3         -0.729451\n",
      "Name: target_encoded, Length: 237, dtype: float64\n"
     ]
    }
   ],
   "source": [
    "le = LabelEncoder()\n",
    "df['target_encoded'] = le.fit_transform(df['target'])\n",
    "\n",
    "correlations = df.corr(numeric_only=True)['target_encoded'].sort_values(ascending=False)\n",
    "print(correlations)\n",
    "\n"
   ]
  },
  {
   "cell_type": "markdown",
   "id": "f5ce50f0",
   "metadata": {},
   "source": [
    "### Separating important columns (with correlation more than 0.3) "
   ]
  },
  {
   "cell_type": "code",
   "execution_count": 9,
   "id": "51d9326f",
   "metadata": {},
   "outputs": [
    {
     "name": "stdout",
     "output_type": "stream",
     "text": [
      "Important features based on correlation threshold:\n",
      " ['target_encoded', 'gabor_a*3', 'gabor_a*2', 'gabor_a*1', 'mean_a*', 'gabor_a*6', 'gabor_a*4', 'gabor_a*5', 'db4_a*', 'gabor_cr3', 'gabor_cr2', 'gabor_cr1', 'mean_cr', 'gabor_cr6', 'gabor_cr5', 'gabor_cr4', 'db4_cr', 'skew_v', 'skew_r', 'skew_l', 'skew_g', 'skew_y', 'skew_yxyz', 'mean_s', 'gabor_s1', 'gabor_s2', 'gabor_s3', 'gabor_s5', 'gabor_s6', 'gabor_s4', 'skew_xxyz', 'db4_s', 'entropy_s', 'entropy_v', 'entropy_b', 'skew_zxyz', 'skew_b', 'skew_b*', 'entropy_g', 'kurtosis_yxyz', 'kurtosis_xxyz', 'stddev_s', 'entropyl', 'entropy_y', 'minoraxis', 'db4_b*', 'mean_b*', 'gabor_b*1', 'gabor_b*6', 'gabor_b*5', 'gabor_b*2', 'gabor_b*3', 'gabor_b*4', 'majoraxis', 'kurtosis_zxyz', 'perimeter', 'entropy_r', 'eqdiasq', 'area', 'gabor_x8xyz', 'gabor_cb3', 'gabor_cb2', 'gabor_cb1', 'roundness', 'mean_cb', 'entropy_yxyz', 'db4_cb', 'stddev_cb', 'gabor_y8xyz', 'gabor_x7xyz', 'gabor_cb5', 'gabor_cb4', 'gabor_cb6', 'gabor_cr7', 'gabor_y7xyz', 'gabor_b*7', 'entropy_b*', 'gabor_cb7', 'stddev_b*', 'gabor_cr8', 'shapefactor', 'gabor_x9xyz', 'gabor_y9xyz', 'gabor_b*8', 'gabor_cb8', 'compactness', 'entropy_xxyz', 'skew_a*', 'stddev_zxyz', 'stddev_a*', 'gabor_a*9', 'gabor_z8xyz', 'gabor_cr9', 'gabor_a*8', 'gabor_b*9', 'gabor_z7xyz', 'solidity', 'kurtosis_s', 'gabor_cb9', 'gabor_a*7', 'gabor_z9xyz', 'entropy_cr', 'entropy_a*', 'entropy_h', 'db4_r', 'gabor_r4', 'gabor_r2', 'gabor_r1', 'gabor_r3', 'mean_r', 'gabor_r5', 'gabor_r6', 'skew_cb', 'gabor_h7', 'gabor_h8', 'stddev_h', 'gabor_h9', 'entropy_zxyz', 'db4_xxyz', 'gabor_x4xyz', 'gabor_x5xyz', 'gabor_x2xyz', 'gabor_x3xyz', 'gabor_x1xyz', 'mean_xxyz', 'gabor_x6xyz', 'db4_yxyz', 'gabor_y4xyz', 'gabor_y3xyz', 'gabor_y2xyz', 'gabor_y5xyz', 'gabor_y1xyz', 'mean_yxyz', 'gabor_y6xyz', 'db4_h', 'db4_zxyz', 'mean_h', 'gabor_h1', 'gabor_h3', 'gabor_h2', 'gabor_z4xyz', 'gabor_z5xyz', 'gabor_z6xyz', 'db4_y', 'gabor_h6', 'mean_zxyz', 'gabor_z1xyz', 'gabor_z2xyz', 'gabor_z3xyz', 'gabor_h5', 'gabor_y4', 'gabor_h4', 'gabor_y2', 'gabor_y1', 'gabor_y3', 'mean_y', 'gabor_y5', 'gabor_y6', 'db4_l', 'db4_v', 'gabor_l4', 'gabor_l2', 'gabor_l1', 'gabor_l3', 'mean_l', 'gabor_l5', 'gabor_l6', 'gabor_v4', 'gabor_v2', 'gabor_v1', 'gabor_v3', 'mean_v', 'gabor_v5', 'gabor_v6', 'db4_g', 'gabor_g4', 'gabor_g2', 'gabor_g3', 'gabor_g1', 'mean_g', 'gabor_g5', 'gabor_g6', 'db4_b', 'gabor_b4', 'gabor_b5', 'gabor_b6', 'mean_b', 'gabor_b1', 'gabor_b2', 'gabor_b3']\n",
      "Number of columns in important_features_without_column_target: 189\n"
     ]
    }
   ],
   "source": [
    "important_features = correlations[correlations.abs() > 0.3].index.tolist()\n",
    "\n",
    "print(\"Important features based on correlation threshold:\\n\", important_features)\n",
    "\n",
    "important_features_without_column_target = [f for f in important_features if f != 'target_encoded']\n",
    "\n",
    "print('Number of columns in important_features_without_column_target:', len(important_features_without_column_target))"
   ]
  },
  {
   "cell_type": "markdown",
   "id": "bf89fedc",
   "metadata": {},
   "source": [
    "## 5: Algorithm selection:"
   ]
  },
  {
   "cell_type": "code",
   "execution_count": 10,
   "id": "d9a872af",
   "metadata": {},
   "outputs": [],
   "source": [
    "X = df[important_features_without_column_target] \n",
    "y = df[\"target_encoded\"]\n",
    "\n",
    "X_train, X_test, y_train, y_test = train_test_split(\n",
    "    X, y, test_size=0.2, random_state=42, stratify=y\n",
    ")"
   ]
  },
  {
   "cell_type": "markdown",
   "id": "fc618c6a",
   "metadata": {},
   "source": [
    "### Model selection"
   ]
  },
  {
   "cell_type": "code",
   "execution_count": 11,
   "id": "f163a814",
   "metadata": {},
   "outputs": [
    {
     "name": "stdout",
     "output_type": "stream",
     "text": [
      "\n",
      "Model: Logistic Regression\n"
     ]
    },
    {
     "name": "stdout",
     "output_type": "stream",
     "text": [
      "Accuracy: 0.96\n",
      "              precision    recall  f1-score   support\n",
      "\n",
      "           0       0.99      0.99      0.99       600\n",
      "           1       0.95      0.94      0.95       600\n",
      "           2       0.94      0.96      0.95       600\n",
      "\n",
      "    accuracy                           0.96      1800\n",
      "   macro avg       0.96      0.96      0.96      1800\n",
      "weighted avg       0.96      0.96      0.96      1800\n",
      "\n",
      "\n",
      "Model: Naive Bayes\n",
      "Accuracy: 0.87\n",
      "              precision    recall  f1-score   support\n",
      "\n",
      "           0       0.97      0.93      0.95       600\n",
      "           1       0.88      0.73      0.80       600\n",
      "           2       0.79      0.95      0.86       600\n",
      "\n",
      "    accuracy                           0.87      1800\n",
      "   macro avg       0.88      0.87      0.87      1800\n",
      "weighted avg       0.88      0.87      0.87      1800\n",
      "\n",
      "\n",
      "Model: Decision Tree\n",
      "Accuracy: 0.98\n",
      "              precision    recall  f1-score   support\n",
      "\n",
      "           0       0.99      1.00      1.00       600\n",
      "           1       0.98      0.95      0.97       600\n",
      "           2       0.96      0.98      0.97       600\n",
      "\n",
      "    accuracy                           0.98      1800\n",
      "   macro avg       0.98      0.98      0.98      1800\n",
      "weighted avg       0.98      0.98      0.98      1800\n",
      "\n",
      "\n",
      "Model: Random Forest\n",
      "Accuracy: 0.98\n",
      "              precision    recall  f1-score   support\n",
      "\n",
      "           0       0.99      1.00      1.00       600\n",
      "           1       0.99      0.96      0.98       600\n",
      "           2       0.97      0.99      0.98       600\n",
      "\n",
      "    accuracy                           0.98      1800\n",
      "   macro avg       0.99      0.98      0.98      1800\n",
      "weighted avg       0.99      0.98      0.98      1800\n",
      "\n",
      "\n",
      "Model: Support Vector Machine\n",
      "Accuracy: 0.97\n",
      "              precision    recall  f1-score   support\n",
      "\n",
      "           0       0.99      0.99      0.99       600\n",
      "           1       0.96      0.95      0.96       600\n",
      "           2       0.95      0.96      0.96       600\n",
      "\n",
      "    accuracy                           0.97      1800\n",
      "   macro avg       0.97      0.97      0.97      1800\n",
      "weighted avg       0.97      0.97      0.97      1800\n",
      "\n"
     ]
    }
   ],
   "source": [
    "numeric_features = X_train.columns.tolist()\n",
    "preprocessor = ColumnTransformer([\n",
    "    ('scaler', StandardScaler(), numeric_features)\n",
    "])\n",
    "\n",
    "models = {\n",
    "    \"Logistic Regression\": LogisticRegression(max_iter=1000),\n",
    "    \"Naive Bayes\": GaussianNB(),\n",
    "    \"Decision Tree\": DecisionTreeClassifier(),\n",
    "    \"Random Forest\": RandomForestClassifier(),\n",
    "    \"Support Vector Machine\": LinearSVC(max_iter=10000)\n",
    "}\n",
    "\n",
    "for name, model in models.items():\n",
    "    print(f\"\\nModel: {name}\")\n",
    "\n",
    "    pipeline = Pipeline([\n",
    "        ('preprocessing', preprocessor),\n",
    "        ('classifier', model)\n",
    "    ])\n",
    "\n",
    "    pipeline.fit(X_train, y_train)\n",
    "    y_pred = pipeline.predict(X_test)\n",
    "\n",
    "    print(\"Accuracy:\", round(accuracy_score(y_test, y_pred), 2))\n",
    "    print(classification_report(y_test, y_pred))"
   ]
  },
  {
   "cell_type": "markdown",
   "id": "2dc081ad",
   "metadata": {},
   "source": [
    "## Winner is Random Forest (Accuracy 0.99)\n"
   ]
  },
  {
   "cell_type": "markdown",
   "id": "46197132",
   "metadata": {},
   "source": [
    "## 6. Model training"
   ]
  },
  {
   "cell_type": "code",
   "execution_count": 12,
   "id": "b9e9d740",
   "metadata": {},
   "outputs": [
    {
     "name": "stdout",
     "output_type": "stream",
     "text": [
      " Model trained and saved as 'model/wheat_sorting.pkl'\n"
     ]
    }
   ],
   "source": [
    "pipeline = Pipeline([\n",
    "    (\"preprocessing\", preprocessor),\n",
    "    (\"Random Forest\", RandomForestClassifier())\n",
    "])\n",
    "\n",
    "\n",
    "\n",
    "pipeline.fit(X, y)\n",
    "\n",
    "joblib.dump(pipeline, \"../model/wheat_sorting.pkl\")\n",
    "\n",
    "print(\" Model trained and saved as 'model/wheat_sorting.pkl'\")\n"
   ]
  },
  {
   "cell_type": "markdown",
   "id": "d09f2723",
   "metadata": {},
   "source": [
    "## 7. Model testing:"
   ]
  },
  {
   "cell_type": "code",
   "execution_count": 15,
   "id": "9ae42f2d",
   "metadata": {},
   "outputs": [
    {
     "name": "stdout",
     "output_type": "stream",
     "text": [
      "Test samples:\n",
      "    gabor_a*3  gabor_a*2  gabor_a*1    mean_a*  gabor_a*6  gabor_a*4  \\\n",
      "0  18.807395  79.103037   7.982325  54.600536  62.992982  53.693457   \n",
      "1  72.333991  13.344556   8.692794  56.281361  38.393546   8.534602   \n",
      "2   0.262963  95.831198  54.737749  94.508253  54.024845  93.677031   \n",
      "3  28.463300  77.571470  19.528751  84.624257  44.567241  20.248151   \n",
      "4  91.269872   2.820933  98.469592  69.223971  29.314132  30.136178   \n",
      "\n",
      "   gabor_a*5     db4_a*  gabor_cr3  gabor_cr2  ...   gabor_g5   gabor_g6  \\\n",
      "0  31.483925  24.057640  80.509177  10.648369  ...  97.097530   3.390181   \n",
      "1  98.828300   1.118506  38.563131  23.163078  ...  52.155998  44.393741   \n",
      "2  79.057352  28.311180  16.185022  66.309305  ...  44.849881  43.302500   \n",
      "3   9.795285  58.482125   0.770230  87.915045  ...  51.267018  28.327253   \n",
      "4  85.879433  77.698837  12.998159  62.197095  ...  31.437740  65.929588   \n",
      "\n",
      "       db4_b   gabor_b4   gabor_b5   gabor_b6     mean_b   gabor_b1  \\\n",
      "0  61.673019  98.608413  18.029573   5.050664  55.514526  23.453444   \n",
      "1  78.754682   3.845860  89.640629   5.399869  41.502671  54.467619   \n",
      "2  52.968647  34.621883  40.945439  52.481519  97.711657  17.140010   \n",
      "3  11.567126  79.055754  39.880538  43.120465  48.414567  24.243372   \n",
      "4  38.505289  85.102734  64.549089  62.136134  77.314197  47.544149   \n",
      "\n",
      "    gabor_b2   gabor_b3  \n",
      "0  77.998856  76.209147  \n",
      "1  60.539825  48.420923  \n",
      "2  85.121329  68.814534  \n",
      "3  72.113943  34.189959  \n",
      "4  78.355905   0.736214  \n",
      "\n",
      "[5 rows x 189 columns]\n",
      "\n",
      "Predicted wheat quality:\n",
      " ['Foreign' 'Starchy' 'Foreign' 'Foreign' 'Foreign']\n"
     ]
    }
   ],
   "source": [
    "n_samples = 5  \n",
    "\n",
    "test_df = pd.DataFrame(\n",
    "    np.random.rand(n_samples, X_train.shape[1]) * 100,  \n",
    "    columns=X_train.columns\n",
    ")\n",
    "\n",
    "predictions = pipeline.predict(test_df)\n",
    "\n",
    "predicted_labels = le.inverse_transform(predictions)\n",
    "\n",
    "# Prikaz rezultata\n",
    "print(\"Test samples:\\n\", test_df.head())\n",
    "print(\"\\nPredicted wheat quality:\\n\", predicted_labels)\n"
   ]
  },
  {
   "cell_type": "markdown",
   "id": "25cc0bd7",
   "metadata": {},
   "source": [
    "## 8. Model exporting:"
   ]
  }
 ],
 "metadata": {
  "kernelspec": {
   "display_name": "Python 3",
   "language": "python",
   "name": "python3"
  },
  "language_info": {
   "codemirror_mode": {
    "name": "ipython",
    "version": 3
   },
   "file_extension": ".py",
   "mimetype": "text/x-python",
   "name": "python",
   "nbconvert_exporter": "python",
   "pygments_lexer": "ipython3",
   "version": "3.12.9"
  }
 },
 "nbformat": 4,
 "nbformat_minor": 5
}
